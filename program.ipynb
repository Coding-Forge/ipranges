{
 "cells": [
  {
   "cell_type": "code",
   "execution_count": 1,
   "metadata": {},
   "outputs": [],
   "source": [
    "import urllib.request\n",
    "import pandas as pd\n",
    "import requests\n"
   ]
  },
  {
   "cell_type": "code",
   "execution_count": 19,
   "metadata": {},
   "outputs": [],
   "source": [
    "confirmation_url = \"https://www.microsoft.com/en-us/download/confirmation.aspx?id=56519\"\n",
    "#confirmation_url = \"https://www.microsoft.com/en-us/download/confirmation.aspx?id=56519\"\n",
    "\n",
    "download_url = \"https://www.microsoft.com/en-us/download/details.aspx?id=56519\"\n",
    "# https://download.microsoft.com/download/7/1/D/71D86715-5596-4529-9B13-DA13A5DE5B63/ServiceTags_Public_20240930.json\n",
    "\n",
    "import json\n",
    "import requests\n",
    "from bs4 import BeautifulSoup\n",
    "import time\n",
    "\n",
    "\n",
    "headers = {'User-Agent': 'Mozilla/5.0 (Windows NT 10.0; Win64; x64) AppleWebKit/537.36 (KHTML, like Gecko) Chrome/58.0.3029.110 Safari/537.3'}\n",
    "\n",
    "\n",
    "# Making a GET request\n",
    "r = requests.get(confirmation_url, headers=headers)\n",
    " \n",
    "# Parsing the HTML\n",
    "soup = BeautifulSoup(r.content, 'html.parser')\n",
    "\n",
    "\n"
   ]
  },
  {
   "cell_type": "code",
   "execution_count": null,
   "metadata": {},
   "outputs": [],
   "source": [
    "url=\"\"\n",
    "#url = \"https://download.microsoft.com/download/7/1/D/71D86715-5596-4529-9B13-DA13A5DE5B63/ServiceTags_Public_20220404.json\"\n",
    "# find all the anchor tags with \"href\"\n",
    "for link in soup.find_all('a'):\n",
    "    if \"ServiceTags_Public\" in link.get('href'):\n",
    "        url=link.get('href')\n",
    "        break\n",
    "\n",
    "print(url)\n"
   ]
  },
  {
   "cell_type": "code",
   "execution_count": 23,
   "metadata": {},
   "outputs": [],
   "source": [
    "\n",
    "data = json.loads(requests.get(url).text)\n",
    "\n",
    "df_tags = pd.json_normalize(data, record_path=['values'], meta=['changeNumber','cloud'],errors='ignore')"
   ]
  },
  {
   "attachments": {},
   "cell_type": "markdown",
   "metadata": {},
   "source": [
    "## Get IP Ranges filtered for Power BI\n",
    "\n",
    "Pass the IP ranges to a web service to do reverse DNS lookup"
   ]
  },
  {
   "cell_type": "code",
   "execution_count": null,
   "metadata": {},
   "outputs": [],
   "source": [
    "#df_tags['properties.systemService'].unique()\n",
    "#df_tags[df_tags['properties.systemService']==\"AzureDatabricks\"]\n",
    "\n",
    "\n",
    "list(df_tags[df_tags['properties.systemService']==\"PowerBI\"]['properties.addressPrefixes'])[0]"
   ]
  },
  {
   "cell_type": "code",
   "execution_count": 38,
   "metadata": {},
   "outputs": [],
   "source": [
    "df = pd.DataFrame()\n",
    "import json\n",
    "import os\n",
    "import ipaddress\n",
    "\n",
    "from dotenv import dotenv_values\n",
    "\n",
    "datacenters = []\n",
    "\n",
    "# settings = dotenv_values(\".env\")\n",
    "\n",
    "PACKAGE=\"WS5\"\n",
    "# API_KEY=settings['API_KEY']\n",
    "\n",
    "API_KEY=get_from_kv(\"ip2location-api-key\")\n",
    "\n",
    "# Sample list of IP addresses\n",
    "ipranges = list(df_tags[df_tags['properties.systemService']==\"PowerBI\"]['properties.addressPrefixes'])[0]\n",
    "\n",
    "# Extracting IPv4 addresses\n",
    "ipv4_addresses = [ip for ip in ipranges if isinstance(ipaddress.ip_network(ip), ipaddress.IPv4Network)]\n",
    "\n",
    "#https://api.ip2location.io/?key=&ip=8.8.8.8&format=json    \n",
    "\n",
    "# don't need to write to a local file anymore\n",
    "#with open('iprange_doc.json', 'w') as f:\n",
    "for ip in ipv4_addresses:\n",
    "    request = f\"https://api.ip2location.io/?key={API_KEY}&ip={ip.split('/')[0]}&format=json\"    \n",
    "    #request = f\"https://api.ip2location.com/v2/?ip={ip.split('/')[0]}&key={API_KEY}&package={PACKAGE}\"\n",
    "    my_request = request\n",
    "    response = requests.get(my_request)\n",
    "    df_temp = response.json()\n",
    "    df_temp['CIDR']=ip\n",
    "    datacenters.append(df_temp)"
   ]
  },
  {
   "cell_type": "code",
   "execution_count": 39,
   "metadata": {},
   "outputs": [],
   "source": [
    "with open('datacenters.json', 'w') as f:\n",
    "    json.dump(datacenters, f)\n"
   ]
  },
  {
   "cell_type": "code",
   "execution_count": null,
   "metadata": {},
   "outputs": [],
   "source": [
    "df = pd.json_normalize(datacenters)\n",
    "df.head(20)"
   ]
  },
  {
   "cell_type": "code",
   "execution_count": 43,
   "metadata": {},
   "outputs": [],
   "source": [
    "df.to_excel(\"/mnt/c/Projects/Fabric/ipranges/data/powerbi_ips.xlsx\")\n"
   ]
  },
  {
   "cell_type": "code",
   "execution_count": 43,
   "metadata": {},
   "outputs": [],
   "source": [
    "from pyspark.sql import SparkSession\n",
    "from pyspark.sql.functions import explode_outer\n",
    "\n",
    "# Initialize Spark session\n",
    "spark = SparkSession.builder.appName(\"ReadAzureRegions\").getOrCreate()\n",
    "\n",
    "# Read the JSON file\n",
    "# df_azure_regions = spark.read.json(\"azure_regions.json\")\n",
    "\n",
    "df = spark.read.option(\"multiline\", \"true\").json(\"azure_regions.json\")\n",
    "\n",
    "# Show the dataframe\n",
    "# df_azure_regions.show()"
   ]
  },
  {
   "cell_type": "code",
   "execution_count": null,
   "metadata": {},
   "outputs": [],
   "source": [
    "\n",
    "df.printSchema()"
   ]
  },
  {
   "cell_type": "code",
   "execution_count": null,
   "metadata": {},
   "outputs": [],
   "source": [
    "dd = df.selectExpr(\n",
    "    \"displayName\",\n",
    "    \"id\",\n",
    "    \"metadata.geography as geography\",\n",
    "    \"metadata.geographyGroup as geographyGroup\",\n",
    "    \"metadata.latitude as latitude\",\n",
    "    \"metadata.longitude as longitude\",\n",
    "    \"metadata.physicalLocation as physicalLocation\",\n",
    "    \"metadata.regionCategory as regionCategory\",\n",
    "    \"metadata.regionType as regionType\",\n",
    "    \"regionalDisplayName\",\n",
    "    \"type\",\n",
    "    \"name\",\n",
    "    \"explode_outer(metadata.pairedRegion) as pairedRegion\",\n",
    "    \"availabilityZoneMappings\")\n",
    "\n",
    "# dd.show()\n",
    "de = dd.selectExpr(\n",
    "    \"*\",\n",
    "    \"pairedRegion.id as pairedRegionId\",\n",
    "    \"pairedRegion.name as pairedRegionName\").drop(\"pairedRegion\")\n",
    "\n",
    "de.show()"
   ]
  },
  {
   "cell_type": "code",
   "execution_count": null,
   "metadata": {},
   "outputs": [],
   "source": [
    "de.printSchema()"
   ]
  },
  {
   "cell_type": "code",
   "execution_count": null,
   "metadata": {},
   "outputs": [],
   "source": [
    "dg = de.withColumn(\"zones\", explode_outer(\"availabilityZoneMappings\")).drop(\"availabilityZoneMappings\")\n",
    "dh = dg.selectExpr(\n",
    "    \"*\",\n",
    "    \"zones.logicalZone as logicalZone\",\n",
    "    \"zones.physicalZone as physicalZone\").drop(\"zones\")\n",
    "dg.limit(10).show()"
   ]
  },
  {
   "cell_type": "code",
   "execution_count": null,
   "metadata": {},
   "outputs": [],
   "source": [
    "dh.limit(10).show()\n",
    "\n",
    "dh.write.mode(\"overwrite\").parquet(\"azure_regions.parquet\")\n",
    "dh.toPandas().to_excel(\"azure_regions.xlsx\")"
   ]
  },
  {
   "cell_type": "code",
   "execution_count": 10,
   "metadata": {},
   "outputs": [],
   "source": [
    "import pandas as pd\n",
    "\n",
    "df = pd.read_excel(\"powerbi_ips.xlsx\")"
   ]
  },
  {
   "cell_type": "code",
   "execution_count": null,
   "metadata": {},
   "outputs": [],
   "source": [
    "from azure.common.credentials import ServicePrincipalCredentials\n",
    "from azure.identity import ClientSecretCredential\n",
    "from azure.identity import DefaultAzureCredential\n",
    "from azure.mgmt.resource import ResourceManagementClient\n",
    "from azure.mgmt.storage import StorageManagementClient\n",
    "from datetime import datetime, timedelta\n",
    "import time\n",
    "\n",
    "from azure.mgmt.storage.models import (\n",
    "    StorageAccountCreateParameters,\n",
    "    NetworkRuleSet,\n",
    "    IPRule,\n",
    "    StorageAccountUpdateParameters,\n",
    "    Sku,\n",
    "    SkuName,\n",
    "    Kind\n",
    ")"
   ]
  },
  {
   "cell_type": "code",
   "execution_count": null,
   "metadata": {},
   "outputs": [],
   "source": [
    "import os\n",
    "subscription_id = os.getenv(\"SUBSCRIPTION_ID\")\n",
    "\n",
    "credentials = ServicePrincipalCredentials(\n",
    "    client_id = os.getenv(\"CLIENT_ID\"),\n",
    "    secret=os.getenv(\"site_ADF_SP_SECRET\"),\n",
    "    tenant=os.getenv(\"TENANT_ID\")\n",
    ")\n",
    "\n",
    "blob_credentials = ClientSecretCredential(\n",
    "    client_id = 'a888b9fe-38ff-4551-844f-7416e1cbb89f',\n",
    "    client_secret=os.getenv(\"site_ADF_SP_SECRET\"),\n",
    "    tenant_id=os.getenv(\"TENANT_ID\")\n",
    ")\n",
    "\n",
    "GROUP_NAME = 'site-rg'\n",
    "STORAGE_ACCOUNT_NAME = 'sitegen2'\n",
    "\n",
    "#credentials = DefaultAzureCredential(exclude_interactive_browser_credential=False)\n",
    "\n",
    "resource_client = ResourceManagementClient(credentials, subscription_id)\n",
    "storage_client = StorageManagementClient(credentials, subscription_id)"
   ]
  },
  {
   "cell_type": "code",
   "execution_count": null,
   "metadata": {},
   "outputs": [],
   "source": [
    "storage_account = storage_client.storage_accounts.get_properties(\"site-rg\",\"sitegen2\")"
   ]
  },
  {
   "cell_type": "code",
   "execution_count": null,
   "metadata": {},
   "outputs": [],
   "source": [
    "ip = df[df['region_name']=='Iowa']['CIDR']\n",
    "\n",
    "str_ip_rules = \"\"\n",
    "\n",
    "ip_ranges2 = []\n",
    "\n",
    "# /31 and /32 are not allowed to be entered as IP Ranges using CIDR\n",
    "# must be entered as an IP\n",
    "for address in ip:\n",
    "    if \":\" not in address:\n",
    "        if \"31\" in address:\n",
    "            val = address.replace(\"/31\",\"\")\n",
    "            str_ip_rules += f\"IPRule(ip_address_or_range='{val}', action='Allow')|\"\n",
    "            ip_ranges2.append(IPRule(ip_address_or_range=val, action='Allow'))\n",
    "            val = val.rsplit(\".\",1)\n",
    "            val = val[0] + \".\" + str(int(val[1])+1)\n",
    "            str_ip_rules += f\"IPRule(ip_address_or_range='{val}', action='Allow')|\"\n",
    "            ip_ranges2.append(IPRule(ip_address_or_range=val, action='Allow'))\n",
    "\n",
    "\n",
    "        else:\n",
    "            str_ip_rules += f\"IPRule(ip_address_or_range='{address}', action='Allow')|\"\n",
    "            ip_ranges2.append(IPRule(ip_address_or_range=address, action='Allow'))\n"
   ]
  },
  {
   "cell_type": "code",
   "execution_count": null,
   "metadata": {},
   "outputs": [],
   "source": [
    "str_ip_rules=str_ip_rules[0:-1]\n",
    "ip_rules = list(str_ip_rules.split(\"|\"))"
   ]
  },
  {
   "cell_type": "markdown",
   "metadata": {},
   "source": [
    "### Working Example\n",
    "\n",
    "This shows what it looks like if just entering by hand"
   ]
  },
  {
   "cell_type": "code",
   "execution_count": null,
   "metadata": {},
   "outputs": [],
   "source": [
    "ips=['20.37.156.200/30','20.37.156.240/28']\n",
    "\n",
    "storage_account = storage_client.storage_accounts.update(\n",
    "    GROUP_NAME, STORAGE_ACCOUNT_NAME,\n",
    "    StorageAccountUpdateParameters (\n",
    "        network_rule_set = NetworkRuleSet(\n",
    "            default_action='Deny',\n",
    "            ip_rules = [\n",
    "                  IPRule(ip_address_or_range='20.37.156.200/30', action='Allow')\n",
    "                , IPRule(ip_address_or_range='20.37.156.240/28', action='Allow')\n",
    "                , IPRule(ip_address_or_range='20.45.192.124', action='Allow')\n",
    "                , IPRule(ip_address_or_range='20.45.192.125', action='Allow')\n",
    "                , IPRule(ip_address_or_range='20.45.192.208/30', action='Allow')\n",
    "                , IPRule(ip_address_or_range='20.45.192.216/29', action='Allow')\n",
    "                , IPRule(ip_address_or_range='20.45.192.224/28', action='Allow')\n",
    "                , IPRule(ip_address_or_range='20.45.242.48/29', action='Allow')\n",
    "                , IPRule(ip_address_or_range='20.46.15.56/30', action='Allow')\n",
    "                , IPRule(ip_address_or_range='20.98.145.48/28', action='Allow')\n",
    "                , IPRule(ip_address_or_range='20.98.145.64/30', action='Allow')\n",
    "                , IPRule(ip_address_or_range='20.98.145.112/29', action='Allow')\n",
    "                , IPRule(ip_address_or_range='20.98.146.0/27', action='Allow')\n",
    "            ]\n",
    "        )\n",
    "    )\n",
    ")"
   ]
  },
  {
   "cell_type": "markdown",
   "metadata": {},
   "source": [
    "### This works\n",
    "\n",
    "This is how to add the list of IPRules through dynamic coding"
   ]
  },
  {
   "cell_type": "code",
   "execution_count": null,
   "metadata": {},
   "outputs": [],
   "source": [
    "storage_account = storage_client.storage_accounts.update(\n",
    "    GROUP_NAME, STORAGE_ACCOUNT_NAME,\n",
    "    StorageAccountUpdateParameters (\n",
    "        network_rule_set = NetworkRuleSet(\n",
    "            default_action='Deny',\n",
    "            ip_rules = ip_ranges2\n",
    "        )\n",
    "    )\n",
    ")"
   ]
  },
  {
   "attachments": {},
   "cell_type": "markdown",
   "metadata": {},
   "source": [
    "```\n",
    "StorageAccountUpdateParameters(*,  \n",
    "**sku:** Optional[azure.mgmt.storage.v2019_04_01.models._models_py3.Sku] = None,  \n",
    "**tags:** Optional[Dict[str, str]] = None, identity: Optional[azure.mgmt.storage.v2019_04_01.models._models_py3.Identity] = None,   \n",
    "**kind:** Optional[Union[str, azure.mgmt.storage.v2019_04_01.models._storage_management_client_enums.Kind]] = None, \n",
    "**custom_domain:** Optional[azure.mgmt.storage.v2019_04_01.models._models_py3.CustomDomain] = None,  \n",
    "**encryption:** Optional[azure.mgmt.storage.v2019_04_01.models._models_py3.Encryption] = None,  \n",
    "**access_tier:** Optional[Union[str, azure.mgmt.storage.v2019_04_01.models._storage_management_client_enums.AccessTier]] = None,  **azure_files_identity_based_authentication:** Optional[azure.mgmt.storage.v2019_04_01.models._models_py3.AzureFilesIdentityBasedAuthentication] = None,   \n",
    "**enable_https_traffic_only:** Optional[bool] = None,  \n",
    "**network_rule_set:** Optional[azure.mgmt.storage.v2019_04_01.models._models_py3.NetworkRuleSet] = None,  \n",
    "**large_file_shares_state:** Optional[Union[str, azure.mgmt.storage.v2019_04_01.models._storage_management_client_enums.LargeFileSharesState]] =None,  **allow_blob_public_access:** Optional[bool] = None,  \n",
    "**minimum_tls_version:** Optional[Union[str, azure.mgmt.storage.v2019_04_01.models._storage_management_client_enums.MinimumTlsVersion]] = None,  **allow_shared_key_access:** Optional[bool] = None, **kwargs)\n",
    "```"
   ]
  },
  {
   "attachments": {},
   "cell_type": "markdown",
   "metadata": {},
   "source": [
    "```\n",
    "NetworkRuleSet(*,  \n",
    "*default_action:* Union[str, azure.mgmt.storage.v2021_01_01.models._storage_management_client_enums.DefaultAction] = 'Allow',  \n",
    "*bypass:* Optional[Union[str, azure.mgmt.storage.v2021_01_01.models._storage_management_client_enums.Bypass]] = 'AzureServices',  \n",
    "*resource_access_rules:* Optional[List[azure.mgmt.storage.v2021_01_01.models._models_py3.ResourceAccessRule]] = None,  \n",
    "*virtual_network_rules:* Optional[List[azure.mgmt.storage.v2021_01_01.models._models_py3.VirtualNetworkRule]] = None,   \n",
    "*ip_rules:* Optional[List[azure.mgmt.storage.v2021_01_01.models._models_py3.IPRule]] = None, **kwargs)\n",
    "```"
   ]
  },
  {
   "cell_type": "code",
   "execution_count": null,
   "metadata": {},
   "outputs": [],
   "source": [
    "from azure.storage.blob import BlobServiceClient\n",
    "\n",
    "service = BlobServiceClient(account_url=\"https://sitegen2.blob.core.windows.net/\", credential=blob_credentials)\n",
    "#service.create_container(\"testing1\")"
   ]
  }
 ],
 "metadata": {
  "kernelspec": {
   "display_name": "ipranges",
   "language": "python",
   "name": "python3"
  },
  "language_info": {
   "codemirror_mode": {
    "name": "ipython",
    "version": 3
   },
   "file_extension": ".py",
   "mimetype": "text/x-python",
   "name": "python",
   "nbconvert_exporter": "python",
   "pygments_lexer": "ipython3",
   "version": "3.10.15"
  },
  "orig_nbformat": 4
 },
 "nbformat": 4,
 "nbformat_minor": 2
}
