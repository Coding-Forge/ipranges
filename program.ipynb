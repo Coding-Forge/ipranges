{
 "cells": [
  {
   "cell_type": "code",
   "execution_count": null,
   "metadata": {},
   "outputs": [],
   "source": [
    "import urllib.request\n",
    "import requests\n",
    "import pandas as pd\n"
   ]
  },
  {
   "cell_type": "code",
   "execution_count": null,
   "metadata": {},
   "outputs": [],
   "source": [
    "confirmation_url = \"https://www.microsoft.com/en-us/download/confirmation.aspx?id=56519\"\n",
    "import json\n",
    "import requests\n",
    "from bs4 import BeautifulSoup\n",
    " \n",
    " \n",
    "# Making a GET request\n",
    "r = requests.get(confirmation_url)\n",
    " \n",
    "# Parsing the HTML\n",
    "soup = BeautifulSoup(r.content, 'html.parser')\n",
    "\n",
    "url=\"\"\n",
    "#url = \"https://download.microsoft.com/download/7/1/D/71D86715-5596-4529-9B13-DA13A5DE5B63/ServiceTags_Public_20220404.json\"\n",
    "# find all the anchor tags with \"href\"\n",
    "for link in soup.find_all('a'):\n",
    "    if \"ServiceTags_Public\" in link.get('href'):\n",
    "        url=link.get('href')\n",
    "\n",
    "\n",
    "data = json.loads(requests.get(url).text)\n",
    "\n",
    "df_tags = pd.json_normalize(data, record_path=['values'], meta=['changeNumber','cloud'],errors='ignore')"
   ]
  },
  {
   "cell_type": "code",
   "execution_count": null,
   "metadata": {},
   "outputs": [],
   "source": [
    "df = pd.DataFrame()\n",
    "\n",
    "PACKAGE=\"WS5\"\n",
    "API_KEY=\"D54MEY6ZMD\"\n",
    "\n",
    "ipranges=list(df_tags[df_tags['properties.systemService']==\"PowerBI\"]['properties.addressPrefixes'])[0]\n",
    "\n",
    "response=\"\"\n",
    "# don't need to write to a local file anymore\n",
    "#with open('iprange_doc.json', 'w') as f:\n",
    "for ip in ipranges:\n",
    "    my_request = f\"https://api.ip2location.com/v2/?ip={ip.split('/')[0]}&key={API_KEY}&package={PACKAGE}\"\n",
    "    r = urllib.request.urlopen(my_request)\n",
    "    response = r.read().decode('utf-8')\n",
    "    df_temp = pd.json_normalize(json.loads(response))\n",
    "    df_temp['CIDR']=ip\n",
    "    \n",
    "    df=pd.concat([df,df_temp])"
   ]
  },
  {
   "cell_type": "code",
   "execution_count": null,
   "metadata": {},
   "outputs": [],
   "source": [
    "df.tail(20)"
   ]
  },
  {
   "cell_type": "code",
   "execution_count": null,
   "metadata": {},
   "outputs": [],
   "source": [
    "df.to_excel(\"/mnt/c/Users/brcampb/Documents/powerbi_ipranges.xlsx\")\n",
    "df.to_excel(\"powerbi_ipranges.xlsx\")"
   ]
  },
  {
   "cell_type": "code",
   "execution_count": 1,
   "metadata": {},
   "outputs": [],
   "source": [
    "import pandas as pd\n",
    "df = pd.read_excel(\"powerbi_ipranges.xlsx\")"
   ]
  },
  {
   "cell_type": "code",
   "execution_count": 40,
   "metadata": {},
   "outputs": [],
   "source": [
    "from azure.common.credentials import ServicePrincipalCredentials\n",
    "from azure.identity import ClientSecretCredential\n",
    "from azure.identity import DefaultAzureCredential\n",
    "from azure.mgmt.resource import ResourceManagementClient\n",
    "from azure.mgmt.storage import StorageManagementClient\n",
    "from datetime import datetime, timedelta\n",
    "import time\n",
    "\n",
    "from azure.mgmt.storage.models import (\n",
    "    StorageAccountCreateParameters,\n",
    "    NetworkRuleSet,\n",
    "    IPRule,\n",
    "    StorageAccountUpdateParameters,\n",
    "    Sku,\n",
    "    SkuName,\n",
    "    Kind\n",
    ")"
   ]
  },
  {
   "cell_type": "code",
   "execution_count": 34,
   "metadata": {},
   "outputs": [],
   "source": [
    "import os\n",
    "subscription_id = os.getenv(\"SUBSCRIPTION_ID\")\n",
    "\n",
    "credentials = ServicePrincipalCredentials(\n",
    "    client_id = 'a888b9fe-38ff-4551-844f-7416e1cbb89f',\n",
    "    secret=os.getenv(\"ECOLAB_ADF_SP_SECRET\"),\n",
    "    tenant=os.getenv(\"TENANT_ID\")\n",
    ")\n",
    "\n",
    "blob_credentials = ClientSecretCredential(\n",
    "    client_id = 'a888b9fe-38ff-4551-844f-7416e1cbb89f',\n",
    "    client_secret=os.getenv(\"ECOLAB_ADF_SP_SECRET\"),\n",
    "    tenant_id=os.getenv(\"TENANT_ID\")\n",
    ")\n",
    "\n",
    "GROUP_NAME = 'ecolab-rg'\n",
    "STORAGE_ACCOUNT_NAME = 'ecolabgen2'\n",
    "\n",
    "#credentials = DefaultAzureCredential(exclude_interactive_browser_credential=False)\n",
    "\n",
    "resource_client = ResourceManagementClient(credentials, subscription_id)\n",
    "storage_client = StorageManagementClient(credentials, subscription_id)"
   ]
  },
  {
   "cell_type": "code",
   "execution_count": 35,
   "metadata": {},
   "outputs": [],
   "source": [
    "storage_account = storage_client.storage_accounts.get_properties(\"ecolab-rg\",\"ecolabgen2\")"
   ]
  },
  {
   "cell_type": "code",
   "execution_count": 109,
   "metadata": {},
   "outputs": [],
   "source": [
    "ip = df[df['region_name']=='Iowa']['CIDR']\n",
    "\n",
    "str_ip_rules = \"\"\n",
    "\n",
    "ip_ranges2 = []\n",
    "\n",
    "# /31 and /32 are not allowed to be entered as IP Ranges using CIDR\n",
    "# must be entered as an IP\n",
    "for address in ip:\n",
    "    if \":\" not in address:\n",
    "        if \"31\" in address:\n",
    "            val = address.replace(\"/31\",\"\")\n",
    "            str_ip_rules += f\"IPRule(ip_address_or_range='{val}', action='Allow')|\"\n",
    "            ip_ranges2.append(IPRule(ip_address_or_range=val, action='Allow'))\n",
    "            val = val.rsplit(\".\",1)\n",
    "            val = val[0] + \".\" + str(int(val[1])+1)\n",
    "            str_ip_rules += f\"IPRule(ip_address_or_range='{val}', action='Allow')|\"\n",
    "            ip_ranges2.append(IPRule(ip_address_or_range=val, action='Allow'))\n",
    "\n",
    "\n",
    "        else:\n",
    "            str_ip_rules += f\"IPRule(ip_address_or_range='{address}', action='Allow')|\"\n",
    "            ip_ranges2.append(IPRule(ip_address_or_range=address, action='Allow'))\n"
   ]
  },
  {
   "cell_type": "code",
   "execution_count": 79,
   "metadata": {},
   "outputs": [],
   "source": []
  },
  {
   "cell_type": "code",
   "execution_count": 111,
   "metadata": {},
   "outputs": [],
   "source": [
    "str_ip_rules=str_ip_rules[0:-1]\n",
    "ip_rules = list(str_ip_rules.split(\"|\"))"
   ]
  },
  {
   "cell_type": "markdown",
   "metadata": {},
   "source": [
    "### Working Example\n",
    "\n",
    "This shows what it looks like if just entering by hand"
   ]
  },
  {
   "cell_type": "code",
   "execution_count": 92,
   "metadata": {},
   "outputs": [],
   "source": [
    "ips=['20.37.156.200/30','20.37.156.240/28']\n",
    "\n",
    "storage_account = storage_client.storage_accounts.update(\n",
    "    GROUP_NAME, STORAGE_ACCOUNT_NAME,\n",
    "    StorageAccountUpdateParameters (\n",
    "        network_rule_set = NetworkRuleSet(\n",
    "            default_action='Deny',\n",
    "            ip_rules = [\n",
    "                  IPRule(ip_address_or_range='20.37.156.200/30', action='Allow')\n",
    "                , IPRule(ip_address_or_range='20.37.156.240/28', action='Allow')\n",
    "                , IPRule(ip_address_or_range='20.45.192.124', action='Allow')\n",
    "                , IPRule(ip_address_or_range='20.45.192.125', action='Allow')\n",
    "                , IPRule(ip_address_or_range='20.45.192.208/30', action='Allow')\n",
    "                , IPRule(ip_address_or_range='20.45.192.216/29', action='Allow')\n",
    "                , IPRule(ip_address_or_range='20.45.192.224/28', action='Allow')\n",
    "                , IPRule(ip_address_or_range='20.45.242.48/29', action='Allow')\n",
    "                , IPRule(ip_address_or_range='20.46.15.56/30', action='Allow')\n",
    "                , IPRule(ip_address_or_range='20.98.145.48/28', action='Allow')\n",
    "                , IPRule(ip_address_or_range='20.98.145.64/30', action='Allow')\n",
    "                , IPRule(ip_address_or_range='20.98.145.112/29', action='Allow')\n",
    "                , IPRule(ip_address_or_range='20.98.146.0/27', action='Allow')\n",
    "            ]\n",
    "        )\n",
    "    )\n",
    ")"
   ]
  },
  {
   "cell_type": "markdown",
   "metadata": {},
   "source": [
    "### This works\n",
    "\n",
    "This is how to add the list of IPRules through dynamic coding"
   ]
  },
  {
   "cell_type": "code",
   "execution_count": 113,
   "metadata": {},
   "outputs": [],
   "source": [
    "storage_account = storage_client.storage_accounts.update(\n",
    "    GROUP_NAME, STORAGE_ACCOUNT_NAME,\n",
    "    StorageAccountUpdateParameters (\n",
    "        network_rule_set = NetworkRuleSet(\n",
    "            default_action='Deny',\n",
    "            ip_rules = ip_ranges2\n",
    "        )\n",
    "    )\n",
    ")"
   ]
  },
  {
   "cell_type": "markdown",
   "metadata": {},
   "source": [
    "StorageAccountUpdateParameters(*,  \n",
    "**sku:** Optional[azure.mgmt.storage.v2019_04_01.models._models_py3.Sku] = None,  \n",
    "**tags:** Optional[Dict[str, str]] = None, identity: Optional[azure.mgmt.storage.v2019_04_01.models._models_py3.Identity] = None,   \n",
    "**kind:** Optional[Union[str, azure.mgmt.storage.v2019_04_01.models._storage_management_client_enums.Kind]] = None, \n",
    "**custom_domain:** Optional[azure.mgmt.storage.v2019_04_01.models._models_py3.CustomDomain] = None,  \n",
    "**encryption:** Optional[azure.mgmt.storage.v2019_04_01.models._models_py3.Encryption] = None,  \n",
    "**access_tier:** Optional[Union[str, azure.mgmt.storage.v2019_04_01.models._storage_management_client_enums.AccessTier]] = None,  **azure_files_identity_based_authentication:** Optional[azure.mgmt.storage.v2019_04_01.models._models_py3.AzureFilesIdentityBasedAuthentication] = None,   \n",
    "**enable_https_traffic_only:** Optional[bool] = None,  \n",
    "**network_rule_set:** Optional[azure.mgmt.storage.v2019_04_01.models._models_py3.NetworkRuleSet] = None,  \n",
    "**large_file_shares_state:** Optional[Union[str, azure.mgmt.storage.v2019_04_01.models._storage_management_client_enums.LargeFileSharesState]] =None,  **allow_blob_public_access:** Optional[bool] = None,  \n",
    "**minimum_tls_version:** Optional[Union[str, azure.mgmt.storage.v2019_04_01.models._storage_management_client_enums.MinimumTlsVersion]] = None,  **allow_shared_key_access:** Optional[bool] = None, **kwargs)"
   ]
  },
  {
   "cell_type": "markdown",
   "metadata": {},
   "source": [
    "NetworkRuleSet(*,  \n",
    "*default_action:* Union[str, azure.mgmt.storage.v2021_01_01.models._storage_management_client_enums.DefaultAction] = 'Allow',  \n",
    "*bypass:* Optional[Union[str, azure.mgmt.storage.v2021_01_01.models._storage_management_client_enums.Bypass]] = 'AzureServices',  \n",
    "*resource_access_rules:* Optional[List[azure.mgmt.storage.v2021_01_01.models._models_py3.ResourceAccessRule]] = None,  \n",
    "*virtual_network_rules:* Optional[List[azure.mgmt.storage.v2021_01_01.models._models_py3.VirtualNetworkRule]] = None,   \n",
    "*ip_rules:* Optional[List[azure.mgmt.storage.v2021_01_01.models._models_py3.IPRule]] = None, **kwargs)"
   ]
  },
  {
   "cell_type": "code",
   "execution_count": null,
   "metadata": {},
   "outputs": [],
   "source": [
    "from azure.storage.blob import BlobServiceClient\n",
    "\n",
    "service = BlobServiceClient(account_url=\"https://ecolabgen2.blob.core.windows.net/\", credential=blob_credentials)\n",
    "#service.create_container(\"testing1\")"
   ]
  },
  {
   "cell_type": "code",
   "execution_count": null,
   "metadata": {},
   "outputs": [],
   "source": []
  }
 ],
 "metadata": {
  "interpreter": {
   "hash": "a68783321209c15af65f4df13f61bc5473fd56ffc1842f9c34511e36b64cf387"
  },
  "kernelspec": {
   "display_name": "Python 3.8.13 ('ecolab_ip')",
   "language": "python",
   "name": "python3"
  },
  "language_info": {
   "codemirror_mode": {
    "name": "ipython",
    "version": 3
   },
   "file_extension": ".py",
   "mimetype": "text/x-python",
   "name": "python",
   "nbconvert_exporter": "python",
   "pygments_lexer": "ipython3",
   "version": "3.8.13"
  },
  "orig_nbformat": 4
 },
 "nbformat": 4,
 "nbformat_minor": 2
}
